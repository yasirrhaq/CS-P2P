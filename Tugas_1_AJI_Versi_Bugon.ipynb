{
  "nbformat": 4,
  "nbformat_minor": 0,
  "metadata": {
    "colab": {
      "provenance": [],
      "collapsed_sections": [],
      "authorship_tag": "ABX9TyO/oE+LoJNdXOrPN+MiayC+",
      "include_colab_link": true
    },
    "kernelspec": {
      "name": "python3",
      "display_name": "Python 3"
    },
    "language_info": {
      "name": "python"
    }
  },
  "cells": [
    {
      "cell_type": "markdown",
      "metadata": {
        "id": "view-in-github",
        "colab_type": "text"
      },
      "source": [
        "<a href=\"https://colab.research.google.com/github/yasirrhaq/CS-P2P/blob/main/Tugas_1_AJI_Versi_Bugon.ipynb\" target=\"_parent\"><img src=\"https://colab.research.google.com/assets/colab-badge.svg\" alt=\"Open In Colab\"/></a>"
      ]
    },
    {
      "cell_type": "code",
      "execution_count": 2082,
      "metadata": {
        "id": "MNdSgkVWufiC"
      },
      "outputs": [],
      "source": [
        "import sympy as sp\n",
        "import matplotlib.pyplot as plt\n",
        "import numpy as np"
      ]
    },
    {
      "cell_type": "code",
      "source": [
        "N, F, Us, dmin = sp.symbols('N, F, U_s, d_min')"
      ],
      "metadata": {
        "id": "XkIhWF_-h401"
      },
      "execution_count": 2083,
      "outputs": []
    },
    {
      "cell_type": "code",
      "source": [
        "display(N, F, Us, dmin)"
      ],
      "metadata": {
        "colab": {
          "base_uri": "https://localhost:8080/",
          "height": 105
        },
        "id": "1fE30GigiVQ8",
        "outputId": "960fdb64-21fb-43dc-d4ee-bf7ab221c540"
      },
      "execution_count": 2084,
      "outputs": [
        {
          "output_type": "display_data",
          "data": {
            "text/plain": [
              "N"
            ],
            "text/latex": "$\\displaystyle N$"
          },
          "metadata": {}
        },
        {
          "output_type": "display_data",
          "data": {
            "text/plain": [
              "F"
            ],
            "text/latex": "$\\displaystyle F$"
          },
          "metadata": {}
        },
        {
          "output_type": "display_data",
          "data": {
            "text/plain": [
              "U_s"
            ],
            "text/latex": "$\\displaystyle U_{s}$"
          },
          "metadata": {}
        },
        {
          "output_type": "display_data",
          "data": {
            "text/plain": [
              "d_min"
            ],
            "text/latex": "$\\displaystyle d_{min}$"
          },
          "metadata": {}
        }
      ]
    },
    {
      "cell_type": "code",
      "source": [
        "eq = N*F/Us\n",
        "eq2 = F/dmin"
      ],
      "metadata": {
        "id": "upDLqbTIiZKV"
      },
      "execution_count": 2085,
      "outputs": []
    },
    {
      "cell_type": "code",
      "source": [
        "display(eq, eq2)"
      ],
      "metadata": {
        "colab": {
          "base_uri": "https://localhost:8080/",
          "height": 91
        },
        "id": "bWfPhJZGiuUh",
        "outputId": "699eed33-8c06-4932-cc79-e3605a5e033e"
      },
      "execution_count": 2086,
      "outputs": [
        {
          "output_type": "display_data",
          "data": {
            "text/plain": [
              "F*N/U_s"
            ],
            "text/latex": "$\\displaystyle \\frac{F N}{U_{s}}$"
          },
          "metadata": {}
        },
        {
          "output_type": "display_data",
          "data": {
            "text/plain": [
              "F/d_min"
            ],
            "text/latex": "$\\displaystyle \\frac{F}{d_{min}}$"
          },
          "metadata": {}
        }
      ]
    },
    {
      "cell_type": "code",
      "source": [
        "eq_lmbd = sp.lambdify((N,F, Us), eq)"
      ],
      "metadata": {
        "id": "gF6kD39ni1fK"
      },
      "execution_count": 2087,
      "outputs": []
    },
    {
      "cell_type": "code",
      "source": [
        "print(eq_lmbd(5,2,10))"
      ],
      "metadata": {
        "colab": {
          "base_uri": "https://localhost:8080/"
        },
        "id": "vA9Y1gBzjg6F",
        "outputId": "d976a4c4-c52c-471a-d568-294844b9ae27"
      },
      "execution_count": 2088,
      "outputs": [
        {
          "output_type": "stream",
          "name": "stdout",
          "text": [
            "1.0\n"
          ]
        }
      ]
    },
    {
      "cell_type": "code",
      "source": [
        "nilai_N = np.linspace(1,100,100)\n",
        "print(nilai_N)"
      ],
      "metadata": {
        "colab": {
          "base_uri": "https://localhost:8080/"
        },
        "id": "DHLYNaFnjiFh",
        "outputId": "6d79907b-52e1-40bf-8d35-e0c16329dc12"
      },
      "execution_count": 2089,
      "outputs": [
        {
          "output_type": "stream",
          "name": "stdout",
          "text": [
            "[  1.   2.   3.   4.   5.   6.   7.   8.   9.  10.  11.  12.  13.  14.\n",
            "  15.  16.  17.  18.  19.  20.  21.  22.  23.  24.  25.  26.  27.  28.\n",
            "  29.  30.  31.  32.  33.  34.  35.  36.  37.  38.  39.  40.  41.  42.\n",
            "  43.  44.  45.  46.  47.  48.  49.  50.  51.  52.  53.  54.  55.  56.\n",
            "  57.  58.  59.  60.  61.  62.  63.  64.  65.  66.  67.  68.  69.  70.\n",
            "  71.  72.  73.  74.  75.  76.  77.  78.  79.  80.  81.  82.  83.  84.\n",
            "  85.  86.  87.  88.  89.  90.  91.  92.  93.  94.  95.  96.  97.  98.\n",
            "  99. 100.]\n"
          ]
        }
      ]
    },
    {
      "cell_type": "code",
      "source": [
        "data_n = []\n",
        "for n in nilai_N:\n",
        "  data_n.append(eq_lmbd(n,2,10))\n",
        "print(data_n)"
      ],
      "metadata": {
        "colab": {
          "base_uri": "https://localhost:8080/"
        },
        "id": "uUEIt9XAkkkQ",
        "outputId": "09c7958a-2389-457c-8f79-230cbdbbf6b2"
      },
      "execution_count": 2090,
      "outputs": [
        {
          "output_type": "stream",
          "name": "stdout",
          "text": [
            "[0.2, 0.4, 0.6, 0.8, 1.0, 1.2, 1.4, 1.6, 1.8, 2.0, 2.2, 2.4, 2.6, 2.8, 3.0, 3.2, 3.4, 3.6, 3.8, 4.0, 4.2, 4.4, 4.6, 4.8, 5.0, 5.2, 5.4, 5.6, 5.8, 6.0, 6.2, 6.4, 6.6, 6.8, 7.0, 7.2, 7.4, 7.6, 7.8, 8.0, 8.2, 8.4, 8.6, 8.8, 9.0, 9.2, 9.4, 9.6, 9.8, 10.0, 10.2, 10.4, 10.6, 10.8, 11.0, 11.2, 11.4, 11.6, 11.8, 12.0, 12.2, 12.4, 12.6, 12.8, 13.0, 13.2, 13.4, 13.6, 13.8, 14.0, 14.2, 14.4, 14.6, 14.8, 15.0, 15.2, 15.4, 15.6, 15.8, 16.0, 16.2, 16.4, 16.6, 16.8, 17.0, 17.2, 17.4, 17.6, 17.8, 18.0, 18.2, 18.4, 18.6, 18.8, 19.0, 19.2, 19.4, 19.6, 19.8, 20.0]\n"
          ]
        }
      ]
    },
    {
      "cell_type": "code",
      "source": [
        "plt.plot(nilai_N, data_n)\n",
        "plt.xlabel('nilai_n')\n",
        "plt.ylabel('$N/(FU_s)$')"
      ],
      "metadata": {
        "colab": {
          "base_uri": "https://localhost:8080/",
          "height": 297
        },
        "id": "zP6Z7nJKk0TT",
        "outputId": "555bf4eb-d833-4893-b7d2-75c83b57f23a"
      },
      "execution_count": 2091,
      "outputs": [
        {
          "output_type": "execute_result",
          "data": {
            "text/plain": [
              "Text(0, 0.5, '$N/(FU_s)$')"
            ]
          },
          "metadata": {},
          "execution_count": 2091
        },
        {
          "output_type": "display_data",
          "data": {
            "text/plain": [
              "<Figure size 432x288 with 1 Axes>"
            ],
            "image/png": "[encoded data removed]"
          },
          "metadata": {
            "needs_background": "light"
          }
        }
      ]
    },
    {
      "cell_type": "code",
      "source": [
        "N, F, Us, dmin, Ui, Sui = sp.symbols('N, F, U_s, d_min, Ui, \\Sigma_u_i')"
      ],
      "metadata": {
        "id": "HFIk3BOxlpeX"
      },
      "execution_count": 2092,
      "outputs": []
    },
    {
      "cell_type": "code",
      "source": [
        "display(N, F, Us, dmin, Ui, Sui)"
      ],
      "metadata": {
        "colab": {
          "base_uri": "https://localhost:8080/",
          "height": 147
        },
        "id": "NOZESH3UmyYg",
        "outputId": "9e0ad243-77c4-4f7f-fd2f-c1b2568bcfbb"
      },
      "execution_count": 2093,
      "outputs": [
        {
          "output_type": "display_data",
          "data": {
            "text/plain": [
              "N"
            ],
            "text/latex": "$\\displaystyle N$"
          },
          "metadata": {}
        },
        {
          "output_type": "display_data",
          "data": {
            "text/plain": [
              "F"
            ],
            "text/latex": "$\\displaystyle F$"
          },
          "metadata": {}
        },
        {
          "output_type": "display_data",
          "data": {
            "text/plain": [
              "U_s"
            ],
            "text/latex": "$\\displaystyle U_{s}$"
          },
          "metadata": {}
        },
        {
          "output_type": "display_data",
          "data": {
            "text/plain": [
              "d_min"
            ],
            "text/latex": "$\\displaystyle d_{min}$"
          },
          "metadata": {}
        },
        {
          "output_type": "display_data",
          "data": {
            "text/plain": [
              "Ui"
            ],
            "text/latex": "$\\displaystyle Ui$"
          },
          "metadata": {}
        },
        {
          "output_type": "display_data",
          "data": {
            "text/plain": [
              "\\Sigma_u_i"
            ],
            "text/latex": "$\\displaystyle \\Sigma_{u i}$"
          },
          "metadata": {}
        }
      ]
    },
    {
      "cell_type": "code",
      "source": [
        "eq = F/Us"
      ],
      "metadata": {
        "id": "qyTOjipSm1ez"
      },
      "execution_count": 2094,
      "outputs": []
    },
    {
      "cell_type": "code",
      "source": [
        "eq2 = F/dmin"
      ],
      "metadata": {
        "id": "Hw_HxJCznWEI"
      },
      "execution_count": 2095,
      "outputs": []
    },
    {
      "cell_type": "code",
      "source": [
        "eq3 = N*F/(Us+Sui)"
      ],
      "metadata": {
        "id": "7xYPJxUVnbY8"
      },
      "execution_count": 2096,
      "outputs": []
    },
    {
      "cell_type": "code",
      "source": [
        "display(eq)\n",
        "print(\"\")\n",
        "display(eq2)\n",
        "print(\"\")\n",
        "display(eq3)"
      ],
      "metadata": {
        "colab": {
          "base_uri": "https://localhost:8080/",
          "height": 163
        },
        "id": "iF-2i_oRnw39",
        "outputId": "cf941637-1654-44b0-af78-acfb283bc5b5"
      },
      "execution_count": 2097,
      "outputs": [
        {
          "output_type": "display_data",
          "data": {
            "text/plain": [
              "F/U_s"
            ],
            "text/latex": "$\\displaystyle \\frac{F}{U_{s}}$"
          },
          "metadata": {}
        },
        {
          "output_type": "stream",
          "name": "stdout",
          "text": [
            "\n"
          ]
        },
        {
          "output_type": "display_data",
          "data": {
            "text/plain": [
              "F/d_min"
            ],
            "text/latex": "$\\displaystyle \\frac{F}{d_{min}}$"
          },
          "metadata": {}
        },
        {
          "output_type": "stream",
          "name": "stdout",
          "text": [
            "\n"
          ]
        },
        {
          "output_type": "display_data",
          "data": {
            "text/plain": [
              "F*N/(U_s + \\Sigma_u_i)"
            ],
            "text/latex": "$\\displaystyle \\frac{F N}{U_{s} + \\Sigma_{u i}}$"
          },
          "metadata": {}
        }
      ]
    },
    {
      "cell_type": "code",
      "source": [
        "eq_lmbd1 = sp.lambdify((F, Us), eq)\n",
        "eq_lmbd2 = sp.lambdify((F, dmin), eq2)\n",
        "eq_lmbd3 = sp.lambdify((N, F, Us, Sui), eq3)"
      ],
      "metadata": {
        "id": "2UXlCMDdzn5e"
      },
      "execution_count": 2098,
      "outputs": []
    },
    {
      "cell_type": "code",
      "source": [
        "F = 4 #file size (GBps) 1 Byte = 8 bit\n",
        "Us = 0.004 #upload speed server (MBps)\n",
        "dmin = 0.008 #download min client (MBps)\n",
        "nilai_N_p2p = np.linspace(1,100,100) #total user (n)\n",
        "Sui = 0 #sum of client upload speed\n",
        "\n",
        "#Ui = 1/1000\n",
        "#np.random.seed(1) #seed so random value doesn't change\n",
        "\n",
        "#example with upload speed range from 1 to 10\n",
        "#for _ in range(8):\n",
        " # Ui.append(value/1000)\n",
        "  #Sui += Ui[_]\n",
        "\n",
        "print(Ui)\n",
        "\n",
        "mur = Us + np.max(Ui) #max upload rate\n",
        "print(mur)"
      ],
      "metadata": {
        "colab": {
          "base_uri": "https://localhost:8080/"
        },
        "id": "pVO6U5cz8Yc3",
        "outputId": "c03cda14-af2b-4163-bd9b-a0bd36b4ba5c"
      },
      "execution_count": 2099,
      "outputs": [
        {
          "output_type": "stream",
          "name": "stdout",
          "text": [
            "Ui\n",
            "Ui + 0.004\n"
          ]
        }
      ]
    },
    {
      "cell_type": "code",
      "source": [
        "#abaikan\n",
        "print (\"Upload Speed Server (Us): \",Us, \"\\nSum of client upload speed (Sui): \", Sui,\"\\nMax Upload Rate (mur)\", mur)"
      ],
      "metadata": {
        "colab": {
          "base_uri": "https://localhost:8080/"
        },
        "id": "ev_vqOfBF9jf",
        "outputId": "b4c50196-f462-4a05-d9ef-6fe2a0fff629"
      },
      "execution_count": 2100,
      "outputs": [
        {
          "output_type": "stream",
          "name": "stdout",
          "text": [
            "Upload Speed Server (Us):  0.004 \n",
            "Sum of client upload speed (Sui):  0 \n",
            "Max Upload Rate (mur) Ui + 0.004\n"
          ]
        }
      ]
    },
    {
      "cell_type": "code",
      "source": [
        "data_n_p2p = []\n",
        "\n",
        "np.random.seed(1)\n",
        "for n in nilai_N_p2p:\n",
        "  tsoc = eq_lmbd1(F,Us) #time to send one copy\n",
        "  mcdt = eq_lmbd2(F,dmin) #min client download time\n",
        "  Sui = n * (np.random.randint(1,2)/1000) #sigma ui \n",
        "\n",
        "  p2pmt = eq_lmbd3(n,F,Us,Sui) #\n",
        "  data_n_p2p.append(np.max([tsoc, mcdt, p2pmt]))\n",
        "\n",
        "print(data_n_p2p)"
      ],
      "metadata": {
        "colab": {
          "base_uri": "https://localhost:8080/"
        },
        "id": "RDwyOc6pzyzM",
        "outputId": "d68d2a68-b5dd-4015-cccd-88ccb9f59c44"
      },
      "execution_count": 2101,
      "outputs": [
        {
          "output_type": "stream",
          "name": "stdout",
          "text": [
            "[1000.0, 1333.3333333333333, 1714.2857142857142, 2000.0, 2222.222222222222, 2400.0, 2545.4545454545455, 2666.6666666666665, 2769.230769230769, 2857.142857142857, 2933.3333333333335, 3000.0, 3058.8235294117644, 3111.111111111111, 3157.8947368421054, 3200.0, 3238.095238095238, 3272.7272727272725, 3304.3478260869565, 3333.3333333333335, 3360.0, 3384.6153846153848, 3407.4074074074074, 3428.5714285714284, 3448.275862068965, 3466.6666666666665, 3483.8709677419356, 3500.0, 3515.151515151515, 3529.411764705882, 3542.8571428571427, 3555.555555555555, 3567.567567567567, 3578.947368421052, 3589.743589743589, 3599.999999999999, 3609.7560975609763, 3619.0476190476193, 3627.9069767441865, 3636.3636363636365, 3644.444444444445, 3652.1739130434785, 3659.574468085106, 3666.6666666666665, 3673.4693877551017, 3680.0, 3686.2745098039213, 3692.307692307692, 3698.1132075471696, 3703.7037037037035, 3709.0909090909086, 3714.2857142857138, 3719.2982456140353, 3724.137931034483, 3728.813559322034, 3733.3333333333335, 3737.704918032787, 3741.935483870968, 3746.031746031746, 3750.0, 3753.846153846154, 3757.5757575757575, 3761.194029850746, 3764.705882352941, 3768.115942028985, 3771.428571428571, 3774.6478873239435, 3777.7777777777774, 3780.8219178082186, 3783.7837837837833, 3786.666666666666, 3789.473684210526, 3792.2077922077924, 3794.871794871795, 3797.46835443038, 3800.0, 3802.469135802469, 3804.8780487804875, 3807.2289156626503, 3809.523809523809, 3811.7647058823527, 3813.9534883720926, 3816.0919540229884, 3818.181818181818, 3820.2247191011234, 3822.2222222222217, 3824.175824175824, 3826.086956521739, 3827.956989247312, 3829.7872340425533, 3831.578947368421, 3833.333333333333, 3835.0515463917523, 3836.734693877551, 3838.3838383838383, 3840.0, 3841.5841584158416, 3843.1372549019607, 3844.660194174757, 3846.1538461538457]\n"
          ]
        }
      ]
    },
    {
      "cell_type": "code",
      "source": [
        "plt.plot(nilai_N_p2p, data_n_p2p)\n",
        "plt.xlabel('Total user (n)')\n",
        "plt.ylabel('Minimum P2P File Distribution Time (s)')"
      ],
      "metadata": {
        "id": "xQ1DvHJApm3i",
        "colab": {
          "base_uri": "https://localhost:8080/",
          "height": 296
        },
        "outputId": "0c73e67e-d40a-49db-878d-26607f86f9e3"
      },
      "execution_count": 2102,
      "outputs": [
        {
          "output_type": "execute_result",
          "data": {
            "text/plain": [
              "Text(0, 0.5, 'Minimum P2P File Distribution Time (s)')"
            ]
          },
          "metadata": {},
          "execution_count": 2102
        },
        {
          "output_type": "display_data",
          "data": {
            "text/plain": [
              "<Figure size 432x288 with 1 Axes>"
            ],
            "image/png": "[encoded data removed]"
          },
          "metadata": {
            "needs_background": "light"
          }
        }
      ]
    }
  ]
}